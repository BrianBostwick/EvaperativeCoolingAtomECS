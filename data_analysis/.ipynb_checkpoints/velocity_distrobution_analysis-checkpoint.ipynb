{
 "cells": [
  {
   "cell_type": "code",
   "execution_count": 69,
   "id": "3f43ce7c",
   "metadata": {},
   "outputs": [],
   "source": [
    "import matplotlib.pyplot as plt\n",
    "import numpy as np\n",
    "import header as h\n",
    "\n",
    "from scipy.optimize import curve_fit\n",
    "from scipy.stats import maxwell\n",
    "from scipy.stats import norm"
   ]
  },
  {
   "cell_type": "code",
   "execution_count": 141,
   "id": "e0dfe304",
   "metadata": {},
   "outputs": [],
   "source": [
    "def get_power_data( file ):\n",
    "    power = []\n",
    "    with open( file , 'r') as myfile:\n",
    "        while( True ):\n",
    "            #Getting file data line-by-line.\n",
    "            data = myfile.readline()\n",
    "            #Check end of file.\n",
    "            if len(data) == 0:\n",
    "                break\n",
    "            power.append(float(data[:len(data)-1]))\n",
    "    return power\n",
    "\n",
    "def TheroreticalFreq(power, e_sqrd_radius = 50.0e-6, transition_wavelength = 461.0e-9 , laser_wavelength = 1064.0e-9, mass = 87*1.66e-27, transition_linewidth = 30.5e6):\n",
    "    P_0 = power\n",
    "    w_0 = e_sqrd_radius\n",
    "    omega_0 = 2*pi*c/transition_wavelength\n",
    "    omega   = 2*pi*c/laser_wavelength\n",
    "    m   = mass*amu2kg\n",
    "        \n",
    "    I_0 = 2*P_0/(pi*w_0**2)\n",
    "    Gamma = 2*pi*transition_linewidth\n",
    "\n",
    "    co_rotating      = Gamma / (omega_0 - omega)\n",
    "    counter_rotating = Gamma / (omega_0 + omega)\n",
    "    contants = 3*pi*c**2/(2*omega_0**3)\n",
    "\n",
    "    U_0 = I_0 * contants * (co_rotating + counter_rotating)\n",
    "\n",
    "    return  U_0\n",
    "\n",
    "def norm_fit(x, a, b):\n",
    "    return norm.pdf(x, a, b)\n",
    "\n",
    "def max_bolt_pdf(x, m, T):\n",
    "    kT = 1.380469e-23 * T #J k^-1\n",
    "    return np.sqrt( m/ (2*np.pi*kT) ) * np.exp(-m/(2*kT) * x**2)\n",
    "\n",
    "def get_particle_velocity(x):\n",
    "    return np.sqrt(sum([i**2 for i in x]))\n",
    "    \n",
    "            "
   ]
  },
  {
   "cell_type": "code",
   "execution_count": 149,
   "id": "24a87775",
   "metadata": {},
   "outputs": [
    {
     "name": "stdout",
     "output_type": "stream",
     "text": [
      "0.0\n"
     ]
    }
   ],
   "source": [
    "m = 87*1.66e-27\n",
    "T = 2.0e-6 \n",
    "\n",
    "x = np.linspace(0, 1, 100) \n",
    "y = maxwell.pdf(x, .6, 10) \n",
    "\n",
    "popt, pcov = curve_fit(norm_fit, x, y)\n",
    "\n",
    "# plt.plot(x, norm_fit(x, popt[0], popt[1]), \"r--\", label = \"norm\")\n",
    "# plt.plot(x, y, label = \"maxwell\")\n",
    "\n",
    "print(max_bolt_pdf(, m, T))\n",
    "# plt.legend()\n",
    "plt.show()"
   ]
  },
  {
   "cell_type": "code",
   "execution_count": 93,
   "id": "a78ddff0",
   "metadata": {},
   "outputs": [
    {
     "data": {
      "image/png": "[encoded data removed]",
      "text/plain": [
       "<Figure size 432x288 with 1 Axes>"
      ]
     },
     "metadata": {
      "needs_background": "light"
     },
     "output_type": "display_data"
    }
   ],
   "source": [
    "fileVel = \"/Users/brianbostwick/Mirror/Cambridge/QMBP_Lab/DipoleTrap_EvapCooling/EvapData/vel_distro02.txt\"\n",
    "\n",
    "VelData = h.get_particle_data( fileVel )[2]\n",
    "\n",
    "distro = [get_particle_velocity(i) for i in VelData[0]]\n",
    "\n",
    "plt.hist(distro, bins = 25)\n",
    "plt.show()"
   ]
  },
  {
   "cell_type": "code",
   "execution_count": 75,
   "id": "6913d9a7",
   "metadata": {},
   "outputs": [
    {
     "data": {
      "text/plain": [
       "5"
      ]
     },
     "execution_count": 75,
     "metadata": {},
     "output_type": "execute_result"
    }
   ],
   "source": [
    "sum([i**2 for i in [1,2]])"
   ]
  },
  {
   "cell_type": "code",
   "execution_count": null,
   "id": "afbc670c",
   "metadata": {},
   "outputs": [],
   "source": []
  }
 ],
 "metadata": {
  "kernelspec": {
   "display_name": "Python 3",
   "language": "python",
   "name": "python3"
  },
  "language_info": {
   "codemirror_mode": {
    "name": "ipython",
    "version": 3
   },
   "file_extension": ".py",
   "mimetype": "text/x-python",
   "name": "python",
   "nbconvert_exporter": "python",
   "pygments_lexer": "ipython3",
   "version": "3.8.8"
  }
 },
 "nbformat": 4,
 "nbformat_minor": 5
}
